{
  "nbformat": 4,
  "nbformat_minor": 0,
  "metadata": {
    "colab": {
      "provenance": [],
      "authorship_tag": "ABX9TyOd62iu/qlv+9xXHXDjffG6",
      "include_colab_link": true
    },
    "kernelspec": {
      "name": "python3",
      "display_name": "Python 3"
    },
    "language_info": {
      "name": "python"
    }
  },
  "cells": [
    {
      "cell_type": "markdown",
      "metadata": {
        "id": "view-in-github",
        "colab_type": "text"
      },
      "source": [
        "<a href=\"https://colab.research.google.com/github/monishm-2004/ML-from-Scratch/blob/main/perceptron.ipynb\" target=\"_parent\"><img src=\"https://colab.research.google.com/assets/colab-badge.svg\" alt=\"Open In Colab\"/></a>"
      ]
    },
    {
      "cell_type": "code",
      "source": [
        "import numpy as np\n",
        "import matplotlib.pyplot as plt\n",
        "from sklearn.model_selection import train_test_split\n",
        "from sklearn import datasets"
      ],
      "metadata": {
        "id": "5QVx3zrGZxMk"
      },
      "execution_count": null,
      "outputs": []
    },
    {
      "cell_type": "code",
      "source": [
        "\n",
        "def unit_step_fun(x):\n",
        "  return np.where(x>0 ,1,0)"
      ],
      "metadata": {
        "id": "bQkpm9TNSTqm"
      },
      "execution_count": null,
      "outputs": []
    },
    {
      "cell_type": "code",
      "execution_count": null,
      "metadata": {
        "id": "61oCtq21Rse5"
      },
      "outputs": [],
      "source": [
        "class Perceptron:\n",
        "\n",
        "  def __init__(self,lr=0.01,iter=1000):\n",
        "      self.lr=lr\n",
        "      self.iter=iter\n",
        "      self.act_fun=unit_step_fun\n",
        "      self.weights = None\n",
        "      self.bias = None\n",
        "\n",
        "\n",
        "\n",
        "  def fit(self,X,y):\n",
        "    n_samp,n_feat =X.shape\n",
        "    self.weights = np.zeros(n_feat)\n",
        "    #print(self.weights.shape)\n",
        "    self.bias = 0\n",
        "\n",
        "    y_= np.where(y>0,1,0)\n",
        "\n",
        "    for _ in range(self.iter):\n",
        "      for idx,x_i in enumerate(X):\n",
        "        #print(x_i.shape)\n",
        "        linear_output = np.dot(x_i,self.weights)+self.bias\n",
        "        y_pred =self.act_fun(linear_output)\n",
        "\n",
        "        update = self.lr*(y_[idx]-y_pred)\n",
        "        self.weights += update*x_i\n",
        "        self.bias += update\n",
        "\n",
        "  def predict(self,X):\n",
        "      linear_output = np.dot(X,self.weights)+self.bias\n",
        "      y_pred =self.act_fun(linear_output)\n",
        "      return y_pred\n",
        "\n"
      ]
    },
    {
      "cell_type": "code",
      "source": [
        "\n",
        "    def accuracy(y_true, y_pred):\n",
        "        accuracy = np.sum(y_true == y_pred) / len(y_true)\n",
        "        return accuracy\n",
        "\n",
        "    X, y = datasets.make_blobs(\n",
        "        n_samples=150, n_features=2, centers=2, cluster_std=1.05, random_state=2\n",
        "    )\n",
        "    X_train, X_test, y_train, y_test = train_test_split(\n",
        "        X, y, test_size=0.2, random_state=123\n",
        "    )\n",
        "\n",
        "    p = Perceptron(0.01,1000)\n",
        "    p.fit(X_train, y_train)\n",
        "    predictions = p.predict(X_test)\n",
        "\n",
        "    print(\"Perceptron classification accuracy\", accuracy(y_test, predictions))\n",
        "\n",
        "    fig = plt.figure()\n",
        "    ax = fig.add_subplot(1, 1, 1)\n",
        "    plt.scatter(X_train[:, 0], X_train[:, 1], marker=\"o\", c=y_train)\n",
        "\n",
        "    x0_1 = np.amin(X_train[:, 0])\n",
        "    x0_2 = np.amax(X_train[:, 0])\n",
        "\n",
        "    x1_1 = (-p.weights[0] * x0_1 - p.bias) / p.weights[1]\n",
        "    x1_2 = (-p.weights[0] * x0_2 - p.bias) / p.weights[1]\n",
        "\n",
        "    ax.plot([x0_1, x0_2], [x1_1, x1_2], \"k\")\n",
        "\n",
        "    ymin = np.amin(X_train[:, 1])\n",
        "    ymax = np.amax(X_train[:, 1])\n",
        "    ax.set_ylim([ymin - 3, ymax + 3])\n",
        "\n",
        "    plt.show()"
      ],
      "metadata": {
        "id": "rbX1FndLajUP"
      },
      "execution_count": null,
      "outputs": []
    }
  ]
}